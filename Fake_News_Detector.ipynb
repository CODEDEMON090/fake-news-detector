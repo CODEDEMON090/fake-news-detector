{
  "cells": [
    {
      "cell_type": "code",
      "execution_count": 3,
      "metadata": {
        "id": "BO3IDpsyL6Vk"
      },
      "outputs": [],
      "source": [
        "import pandas as pd\n",
        "import numpy as np\n",
        "import matplotlib.pyplot as plt\n",
        "import seaborn as sns\n",
        "import re\n",
        "from nltk.corpus import stopwords\n",
        "from nltk.stem.porter import PorterStemmer\n",
        "from sklearn.feature_extraction.text import TfidfVectorizer\n",
        "from sklearn.model_selection import train_test_split\n",
        "from sklearn.linear_model import LogisticRegression\n",
        "from sklearn.metrics import accuracy_score"
      ]
    },
    {
      "cell_type": "code",
      "execution_count": 5,
      "metadata": {
        "id": "5gzDz7GpMTSd"
      },
      "outputs": [],
      "source": [
        "news_df = pd.read_csv('WELFake_Dataset.csv')"
      ]
    },
    {
      "cell_type": "code",
      "execution_count": null,
      "metadata": {
        "colab": {
          "base_uri": "https://localhost:8080/",
          "height": 206
        },
        "id": "8DMMYelRNmb0",
        "outputId": "7626bb29-dbc9-43bb-a252-2dad7ec48dd5"
      },
      "outputs": [
        {
          "data": {
            "text/html": [
              "<div>\n",
              "<style scoped>\n",
              "    .dataframe tbody tr th:only-of-type {\n",
              "        vertical-align: middle;\n",
              "    }\n",
              "\n",
              "    .dataframe tbody tr th {\n",
              "        vertical-align: top;\n",
              "    }\n",
              "\n",
              "    .dataframe thead th {\n",
              "        text-align: right;\n",
              "    }\n",
              "</style>\n",
              "<table border=\"1\" class=\"dataframe\">\n",
              "  <thead>\n",
              "    <tr style=\"text-align: right;\">\n",
              "      <th></th>\n",
              "      <th>Unnamed: 0</th>\n",
              "      <th>title</th>\n",
              "      <th>text</th>\n",
              "      <th>label</th>\n",
              "    </tr>\n",
              "  </thead>\n",
              "  <tbody>\n",
              "    <tr>\n",
              "      <th>0</th>\n",
              "      <td>0</td>\n",
              "      <td>LAW ENFORCEMENT ON HIGH ALERT Following Threat...</td>\n",
              "      <td>No comment is expected from Barack Obama Membe...</td>\n",
              "      <td>1</td>\n",
              "    </tr>\n",
              "    <tr>\n",
              "      <th>1</th>\n",
              "      <td>1</td>\n",
              "      <td>NaN</td>\n",
              "      <td>Did they post their votes for Hillary already?</td>\n",
              "      <td>1</td>\n",
              "    </tr>\n",
              "    <tr>\n",
              "      <th>2</th>\n",
              "      <td>2</td>\n",
              "      <td>UNBELIEVABLE! OBAMA’S ATTORNEY GENERAL SAYS MO...</td>\n",
              "      <td>Now, most of the demonstrators gathered last ...</td>\n",
              "      <td>1</td>\n",
              "    </tr>\n",
              "    <tr>\n",
              "      <th>3</th>\n",
              "      <td>3</td>\n",
              "      <td>Bobby Jindal, raised Hindu, uses story of Chri...</td>\n",
              "      <td>A dozen politically active pastors came here f...</td>\n",
              "      <td>0</td>\n",
              "    </tr>\n",
              "    <tr>\n",
              "      <th>4</th>\n",
              "      <td>4</td>\n",
              "      <td>SATAN 2: Russia unvelis an image of its terrif...</td>\n",
              "      <td>The RS-28 Sarmat missile, dubbed Satan 2, will...</td>\n",
              "      <td>1</td>\n",
              "    </tr>\n",
              "  </tbody>\n",
              "</table>\n",
              "</div>"
            ],
            "text/plain": [
              "   Unnamed: 0                                              title  \\\n",
              "0           0  LAW ENFORCEMENT ON HIGH ALERT Following Threat...   \n",
              "1           1                                                NaN   \n",
              "2           2  UNBELIEVABLE! OBAMA’S ATTORNEY GENERAL SAYS MO...   \n",
              "3           3  Bobby Jindal, raised Hindu, uses story of Chri...   \n",
              "4           4  SATAN 2: Russia unvelis an image of its terrif...   \n",
              "\n",
              "                                                text  label  \n",
              "0  No comment is expected from Barack Obama Membe...      1  \n",
              "1     Did they post their votes for Hillary already?      1  \n",
              "2   Now, most of the demonstrators gathered last ...      1  \n",
              "3  A dozen politically active pastors came here f...      0  \n",
              "4  The RS-28 Sarmat missile, dubbed Satan 2, will...      1  "
            ]
          },
          "execution_count": 6,
          "metadata": {},
          "output_type": "execute_result"
        }
      ],
      "source": [
        "news_df.head()"
      ]
    },
    {
      "cell_type": "code",
      "execution_count": 7,
      "metadata": {
        "colab": {
          "base_uri": "https://localhost:8080/"
        },
        "id": "aYtkjBqRN0lM",
        "outputId": "026d6706-b2f6-4634-8025-3756527929cd"
      },
      "outputs": [
        {
          "data": {
            "text/plain": [
              "(72134, 4)"
            ]
          },
          "execution_count": 7,
          "metadata": {},
          "output_type": "execute_result"
        }
      ],
      "source": [
        "news_df.shape"
      ]
    },
    {
      "cell_type": "code",
      "execution_count": 8,
      "metadata": {
        "colab": {
          "base_uri": "https://localhost:8080/",
          "height": 209
        },
        "id": "lnGxmvOmN7bR",
        "outputId": "4b5b23ff-7de9-4195-f6a8-05aa0e067bac"
      },
      "outputs": [
        {
          "data": {
            "text/plain": [
              "Unnamed: 0      0\n",
              "title         558\n",
              "text           39\n",
              "label           0\n",
              "dtype: int64"
            ]
          },
          "execution_count": 8,
          "metadata": {},
          "output_type": "execute_result"
        }
      ],
      "source": [
        "news_df.isna().sum()"
      ]
    },
    {
      "cell_type": "code",
      "execution_count": 9,
      "metadata": {
        "id": "VQkX0cfhN-6g"
      },
      "outputs": [],
      "source": [
        "news_df = news_df.fillna(' ')"
      ]
    },
    {
      "cell_type": "code",
      "execution_count": 10,
      "metadata": {
        "colab": {
          "base_uri": "https://localhost:8080/",
          "height": 209
        },
        "id": "WwbzhS_0OGf5",
        "outputId": "ce22bf18-3995-46c4-878d-5acf92e08bf2"
      },
      "outputs": [
        {
          "data": {
            "text/plain": [
              "Unnamed: 0    0\n",
              "title         0\n",
              "text          0\n",
              "label         0\n",
              "dtype: int64"
            ]
          },
          "execution_count": 10,
          "metadata": {},
          "output_type": "execute_result"
        }
      ],
      "source": [
        "news_df.isna().sum()"
      ]
    },
    {
      "cell_type": "code",
      "execution_count": 11,
      "metadata": {
        "id": "XDV6dwPSOJOI"
      },
      "outputs": [],
      "source": [
        "news_df['content'] = news_df['title']+\" \"+news_df['text']"
      ]
    },
    {
      "cell_type": "code",
      "execution_count": 12,
      "metadata": {
        "colab": {
          "base_uri": "https://localhost:8080/",
          "height": 310
        },
        "id": "RA298wxyOt-r",
        "outputId": "feb634ad-ea4f-4eb6-8d55-42964f16ded1"
      },
      "outputs": [
        {
          "data": {
            "text/html": [
              "<div>\n",
              "<style scoped>\n",
              "    .dataframe tbody tr th:only-of-type {\n",
              "        vertical-align: middle;\n",
              "    }\n",
              "\n",
              "    .dataframe tbody tr th {\n",
              "        vertical-align: top;\n",
              "    }\n",
              "\n",
              "    .dataframe thead th {\n",
              "        text-align: right;\n",
              "    }\n",
              "</style>\n",
              "<table border=\"1\" class=\"dataframe\">\n",
              "  <thead>\n",
              "    <tr style=\"text-align: right;\">\n",
              "      <th></th>\n",
              "      <th>Unnamed: 0</th>\n",
              "      <th>title</th>\n",
              "      <th>text</th>\n",
              "      <th>label</th>\n",
              "      <th>content</th>\n",
              "    </tr>\n",
              "  </thead>\n",
              "  <tbody>\n",
              "    <tr>\n",
              "      <th>0</th>\n",
              "      <td>0</td>\n",
              "      <td>LAW ENFORCEMENT ON HIGH ALERT Following Threat...</td>\n",
              "      <td>No comment is expected from Barack Obama Membe...</td>\n",
              "      <td>1</td>\n",
              "      <td>LAW ENFORCEMENT ON HIGH ALERT Following Threat...</td>\n",
              "    </tr>\n",
              "    <tr>\n",
              "      <th>1</th>\n",
              "      <td>1</td>\n",
              "      <td></td>\n",
              "      <td>Did they post their votes for Hillary already?</td>\n",
              "      <td>1</td>\n",
              "      <td>Did they post their votes for Hillary already?</td>\n",
              "    </tr>\n",
              "    <tr>\n",
              "      <th>2</th>\n",
              "      <td>2</td>\n",
              "      <td>UNBELIEVABLE! OBAMA’S ATTORNEY GENERAL SAYS MO...</td>\n",
              "      <td>Now, most of the demonstrators gathered last ...</td>\n",
              "      <td>1</td>\n",
              "      <td>UNBELIEVABLE! OBAMA’S ATTORNEY GENERAL SAYS MO...</td>\n",
              "    </tr>\n",
              "    <tr>\n",
              "      <th>3</th>\n",
              "      <td>3</td>\n",
              "      <td>Bobby Jindal, raised Hindu, uses story of Chri...</td>\n",
              "      <td>A dozen politically active pastors came here f...</td>\n",
              "      <td>0</td>\n",
              "      <td>Bobby Jindal, raised Hindu, uses story of Chri...</td>\n",
              "    </tr>\n",
              "    <tr>\n",
              "      <th>4</th>\n",
              "      <td>4</td>\n",
              "      <td>SATAN 2: Russia unvelis an image of its terrif...</td>\n",
              "      <td>The RS-28 Sarmat missile, dubbed Satan 2, will...</td>\n",
              "      <td>1</td>\n",
              "      <td>SATAN 2: Russia unvelis an image of its terrif...</td>\n",
              "    </tr>\n",
              "  </tbody>\n",
              "</table>\n",
              "</div>"
            ],
            "text/plain": [
              "   Unnamed: 0                                              title  \\\n",
              "0           0  LAW ENFORCEMENT ON HIGH ALERT Following Threat...   \n",
              "1           1                                                      \n",
              "2           2  UNBELIEVABLE! OBAMA’S ATTORNEY GENERAL SAYS MO...   \n",
              "3           3  Bobby Jindal, raised Hindu, uses story of Chri...   \n",
              "4           4  SATAN 2: Russia unvelis an image of its terrif...   \n",
              "\n",
              "                                                text  label  \\\n",
              "0  No comment is expected from Barack Obama Membe...      1   \n",
              "1     Did they post their votes for Hillary already?      1   \n",
              "2   Now, most of the demonstrators gathered last ...      1   \n",
              "3  A dozen politically active pastors came here f...      0   \n",
              "4  The RS-28 Sarmat missile, dubbed Satan 2, will...      1   \n",
              "\n",
              "                                             content  \n",
              "0  LAW ENFORCEMENT ON HIGH ALERT Following Threat...  \n",
              "1     Did they post their votes for Hillary already?  \n",
              "2  UNBELIEVABLE! OBAMA’S ATTORNEY GENERAL SAYS MO...  \n",
              "3  Bobby Jindal, raised Hindu, uses story of Chri...  \n",
              "4  SATAN 2: Russia unvelis an image of its terrif...  "
            ]
          },
          "execution_count": 12,
          "metadata": {},
          "output_type": "execute_result"
        }
      ],
      "source": [
        "news_df.head()"
      ]
    },
    {
      "cell_type": "code",
      "execution_count": 13,
      "metadata": {
        "colab": {
          "base_uri": "https://localhost:8080/",
          "height": 140
        },
        "id": "cXc5scdkOv4d",
        "outputId": "3f2b3660-e4a7-4d93-9bbc-220d7edbf9d2"
      },
      "outputs": [
        {
          "data": {
            "text/plain": [
              "' WATCH: Giuliani Demands That Democrats Apologize For Trump’s Racist Birtherism You know, because in fantasyland Republicans never questioned the citizenship of America s first black president.But that s exactly what they did for years and Donald Trump led the charge by going on or calling into Fox News every chance he could in order to demand President Obama s birth certificate.It was Trump who constantly claimed President Obama was born in Kenya even though Hawaii newspapers from the time announce Obama s birth.Trump and his birther fans were finally utterly humiliated when President Obama released his birth certificate to the public.And now that birtherism is coming back to bite Trump on the ass as he tries to convince black voters that he isn t a racist.Part of the reason why black voters reject Trump is because he questioned the citizenship of President Obama simply because he is black. But Trump wants everyone to pretend he didn t say any nasty things about President Obama and Trump pawn Rudy Giuliani is demanding that Democrats apologize for Trump s birtherism.Giuliani, who has taken to forgetting about 9/11 recently, appeared on CNN with Jake Tapper on Sunday and was grilled because Trump has not apologized for his birtherism. Many African-Americans say they are still troubled by Mr. Trump having suggested over and over, falsely, that the first African-American president was born in Africa and thus ineligible to be president  Tapper began.Giuliani immediately blamed Hillary Clinton for starting the birther conspiracy, but Tapper quickly fact-checked Giuliani, which forced him to blame Clinton s campaign instead.Giuliani then attempted to portray Trump as a hero for  resolving  the conspiracy, claiming that black people  have a faulty memory. He literally thinks black people should thank Trump for being a birther.But Tapper was quick to remind Giuliani that it was President Obama who resolved the conspiracy by releasing his birth certificate in 2011 while Trump was still pushing his birtherism four years later in February 2015 when he told CPAC that he thinks the birth certificate is fake. So apparently Trump thinks it hasn t been resolved, thus blowing Giuliani s claim out of the water. Should he just apologize for this if he really wants to reach out to minority voters?  Tapper asked.Giuliani replied by demanding that Democrats apologize for calling Trump s birtherism racist and went on to bash President Obama. If everybody apologized for all the things they said in politics, all we would be doing on television shows is apologizing. Maybe all the Democrats should apologize for calling Donald Trump a racist and calling him all kinds of terrible names and it gets a little silly. Food stamps have gone up two and a half times under Barack Obama,  he added.  He should be ashamed of himself. Jobs should have gone up two and a half times. My only point is that many African-Americans are still mad about Donald Trump having tried to invalidate Barack Obama by claiming he was born in Africa,  Tapper responded before giving up and moving on.Here s the video via YouTube:Giuliani seems to be forgetting that the recession that began under George W. Bush and the Republicans in 2008 caused more families to need food stamps in the first place, which is why the number of people on food stamps has gone up. Also, President Obama has set a record for the most consecutive months of jobs created and is actually one of the best job-creating presidents over the last 40 years.Once again, Giuliani gets caught talking out of his ass and he must be truly desperate if he is resorting to demanding an apology from Democrats for Trump s racism.Featured Image: Screenshot'"
            ]
          },
          "execution_count": 13,
          "metadata": {},
          "output_type": "execute_result"
        }
      ],
      "source": [
        "news_df['content'][72130]"
      ]
    },
    {
      "cell_type": "code",
      "execution_count": 14,
      "metadata": {
        "id": "tiQwCusEQkTt"
      },
      "outputs": [],
      "source": [
        "df = news_df.sample(20000)"
      ]
    },
    {
      "cell_type": "code",
      "execution_count": 15,
      "metadata": {
        "colab": {
          "base_uri": "https://localhost:8080/"
        },
        "id": "NQZfoGB_Qwcg",
        "outputId": "43d901b7-6e1c-4b99-856e-cfbfdff189ec"
      },
      "outputs": [
        {
          "name": "stderr",
          "output_type": "stream",
          "text": [
            "[nltk_data] Downloading package stopwords to C:\\Users\\MOHD\n",
            "[nltk_data]     SAAD\\AppData\\Roaming\\nltk_data...\n",
            "[nltk_data]   Unzipping corpora\\stopwords.zip.\n"
          ]
        },
        {
          "data": {
            "text/plain": [
              "True"
            ]
          },
          "execution_count": 15,
          "metadata": {},
          "output_type": "execute_result"
        }
      ],
      "source": [
        "import nltk\n",
        "nltk.download('stopwords')"
      ]
    },
    {
      "cell_type": "code",
      "execution_count": 16,
      "metadata": {
        "colab": {
          "base_uri": "https://localhost:8080/",
          "height": 178
        },
        "id": "diwa7mNsQ9CL",
        "outputId": "d99c1d38-b8d1-4cb4-cfeb-aff6cf2f8639"
      },
      "outputs": [
        {
          "data": {
            "text/plain": [
              "label\n",
              "1    10349\n",
              "0     9651\n",
              "Name: count, dtype: int64"
            ]
          },
          "execution_count": 16,
          "metadata": {},
          "output_type": "execute_result"
        }
      ],
      "source": [
        "df['label'].value_counts()"
      ]
    },
    {
      "cell_type": "code",
      "execution_count": 17,
      "metadata": {
        "id": "hMefAtBuO-A1"
      },
      "outputs": [],
      "source": [
        "# Stemming\n",
        "ps = PorterStemmer()\n",
        "\n",
        "def stemming(content):\n",
        "  stemmend_content = re.sub('[^a-zA-Z]',' ',content)\n",
        "  stemmend_content = stemmend_content.lower()\n",
        "  stemmend_content = stemmend_content.split()\n",
        "  stemmend_content = [ps.stem(word) for word in stemmend_content]\n",
        "  stemmend_content = ' '.join(stemmend_content)\n",
        "  return stemmend_content"
      ]
    },
    {
      "cell_type": "code",
      "execution_count": 18,
      "metadata": {
        "id": "dLjXeDYdQNyW"
      },
      "outputs": [],
      "source": [
        "news_df['content'] = news_df['content'].apply(stemming)"
      ]
    },
    {
      "cell_type": "code",
      "execution_count": 19,
      "metadata": {
        "colab": {
          "base_uri": "https://localhost:8080/",
          "height": 140
        },
        "id": "MaYfrI6RQbXo",
        "outputId": "36c3a059-fb4e-40f6-b9cb-12a0c5864a7b"
      },
      "outputs": [
        {
          "data": {
            "text/plain": [
              "'watch giuliani demand that democrat apolog for trump s racist birther you know becaus in fantasyland republican never question the citizenship of america s first black presid but that s exactli what they did for year and donald trump led the charg by go on or call into fox news everi chanc he could in order to demand presid obama s birth certif it wa trump who constantli claim presid obama wa born in kenya even though hawaii newspap from the time announc obama s birth trump and hi birther fan were final utterli humili when presid obama releas hi birth certif to the public and now that birther is come back to bite trump on the ass as he tri to convinc black voter that he isn t a racist part of the reason whi black voter reject trump is becaus he question the citizenship of presid obama simpli becaus he is black but trump want everyon to pretend he didn t say ani nasti thing about presid obama and trump pawn rudi giuliani is demand that democrat apolog for trump s birther giuliani who ha taken to forget about recent appear on cnn with jake tapper on sunday and wa grill becaus trump ha not apolog for hi birther mani african american say they are still troubl by mr trump have suggest over and over fals that the first african american presid wa born in africa and thu inelig to be presid tapper began giuliani immedi blame hillari clinton for start the birther conspiraci but tapper quickli fact check giuliani which forc him to blame clinton s campaign instead giuliani then attempt to portray trump as a hero for resolv the conspiraci claim that black peopl have a faulti memori he liter think black peopl should thank trump for be a birther but tapper wa quick to remind giuliani that it wa presid obama who resolv the conspiraci by releas hi birth certif in while trump wa still push hi birther four year later in februari when he told cpac that he think the birth certif is fake so appar trump think it hasn t been resolv thu blow giuliani s claim out of the water should he just apolog for thi if he realli want to reach out to minor voter tapper ask giuliani repli by demand that democrat apolog for call trump s birther racist and went on to bash presid obama if everybodi apolog for all the thing they said in polit all we would be do on televis show is apolog mayb all the democrat should apolog for call donald trump a racist and call him all kind of terribl name and it get a littl silli food stamp have gone up two and a half time under barack obama he ad he should be asham of himself job should have gone up two and a half time my onli point is that mani african american are still mad about donald trump have tri to invalid barack obama by claim he wa born in africa tapper respond befor give up and move on here s the video via youtub giuliani seem to be forget that the recess that began under georg w bush and the republican in caus more famili to need food stamp in the first place which is whi the number of peopl on food stamp ha gone up also presid obama ha set a record for the most consecut month of job creat and is actual one of the best job creat presid over the last year onc again giuliani get caught talk out of hi ass and he must be truli desper if he is resort to demand an apolog from democrat for trump s racism featur imag screenshot'"
            ]
          },
          "execution_count": 19,
          "metadata": {},
          "output_type": "execute_result"
        }
      ],
      "source": [
        "news_df['content'][72130]"
      ]
    },
    {
      "cell_type": "code",
      "execution_count": 20,
      "metadata": {
        "id": "oVrYdwV2SK-S"
      },
      "outputs": [],
      "source": [
        "X = news_df['content'].values\n",
        "y = news_df['label'].values"
      ]
    },
    {
      "cell_type": "code",
      "execution_count": 21,
      "metadata": {
        "colab": {
          "base_uri": "https://localhost:8080/"
        },
        "id": "Krl7QNBqSlUp",
        "outputId": "b607d049-9238-4332-afe8-1ac2e8484f29"
      },
      "outputs": [
        {
          "name": "stdout",
          "output_type": "stream",
          "text": [
            "['law enforc on high alert follow threat against cop and white on by blacklivesmatt and fyf terrorist video no comment is expect from barack obama member of the fyf or fukyoflag and blacklivesmatt movement call for the lynch and hang of white peopl and cop they encourag other on a radio show tuesday night to turn the tide and kill white peopl and cop to send a messag about the kill of black peopl in america one of the f yoflag organ is call sunshin she ha a radio blog show host from texa call sunshin s f ing opinion radio show a snapshot of her fyf lolatwhitefear twitter page at p m show that she wa urg support to call now fyf tonight we continu to dismantl the illus of white below is a snapshot twitter radio call invit fyf the radio show air at p m eastern standard time dure the show caller clearli call for lynch and kill of white peopl a minut clip from the radio show can be heard here it wa provid to breitbart texa by someon who would like to be refer to as hannib he ha alreadi receiv death threat as a result of interrupt fyf confer call an unidentifi black man said when those mother f ker are by themselv that s when when we should start f ing them up like they do us when a bunch of them ni er takin one of us out that s how we should roll up he said caus we alreadi roll up in gang anyway there should be six or seven black mother f cker see that white person and then lynch their ass let s turn the tabl they conspir that if cop start lose peopl then there will be a state of emerg he specul that one of two thing would happen a big ass r s war or ni er they are go to start backin up we are alreadi get kill out here so what the f k we got to lose sunshin could be heard say yep that s true that s so f king true he said we need to turn the tabl on them our kid are get shot out here somebodi need to becom a sacrific on their side he said everybodi ain t down for that s t or whatev but like i say everybodi ha a differ posit of war he continu becaus they don t give a f k anyway he said again we might as well util them for that s t and turn the tabl on these n er he said that way we can start lookin like we ain t havin that mani casualti and there can be more causal on their side instead of our they are out their kill black peopl black live don t matter that s what those mother f ker so we got to make it matter to them find a mother f ker that is alon snap hi ass and then f in hang him from a damn tree take a pictur of it and then send it to the mother f ker we just need one exampl and then peopl will start watchin thi will turn the tabl on s t he said he said thi will start a trickl down effect he said that when one white person is hung and then they are just flat hang that will start the trickl down effect he continu black peopl are good at start trend he said that wa how to get the upper hand anoth black man spoke up say they need to kill cop that are kill us the first black male said that will be the best method right there breitbart texa previous report how sunshin wa upset when racist white peopl infiltr and disrupt one of her confer call she subsequ releas the phone number of one of the infiltr the veteran immedi start receiv threaten call one of the f yoflag movement support allegedli told a veteran who infiltr their publicli post confer call we are go to rape and gut your pregnant wife and your f ing piec of sh t unborn creatur will be hung from a tree breitbart texa previous encount sunshin at a sandra bland protest at the waller counti jail in texa where she said all white peopl should be kill she told journalist and photograph you see thi nappi ass hair on my head that mean i am one of those more milit negro she said she wa at the protest becaus these redneck mother f ker murder sandra bland becaus she had nappi hair like me fyf black radic say they will be hold the imperi power that are actual respons for the terrorist attack on septemb th account on that day as report by breitbart texa there are sever websit and twitter handl for the movement palmetto star describ himself as one of the head organ he said in a youtub video that support will be burn their symbol of the illus of their superior their fals white supremaci like the american flag the british flag polic uniform and ku klux klan hood sierra mcgrone or nocturnu libertu post you too can help a young afrikan clean their a with the rag of oppress she post two photo one that appear to be herself and a photo of a black man wipe their nake butt with the american flag for entir stori breitbart news'\n",
            " 'did they post their vote for hillari alreadi'\n",
            " 'unbeliev obama s attorney gener say most charlott rioter were peac protest in her home state of north carolina video now most of the demonstr gather last night were exercis their constitut and protect right to peac protest in order to rais issu and creat chang loretta lynch aka eric holder in a skirt'\n",
            " ...\n",
            " 'migrant refus to leav train at refuge camp in hungari migrant refus to leav train at refuge camp in hungari thousand of migrant flood into a train station in the hungarian capit thursday after polic lift a two day blockad but some who board a train they thought wa go to germani end up instead at a refuge camp just mile from budapest the associ press report that excit migrant pile into a newli arriv train at the keleti station in hungari s capit despit announc in hungarian and english that all servic from the station to western europ had been cancel a statement on the main departur board said no more train to austria or germani would depart due to safeti reason until further notic mani migrant who couldn t understand either languag and were receiv no advic from hungarian offici scrambl aboard in a stand room onli crush and hope for the best the ap said scuffl broke out when polic order the passeng off the train at bicsk accord to the bbc meanwhil hungari s prime minist say hi countri is do all it can to manag a grow migrant crisi even as european offici said they will meet thi month in brussel to discuss an effort to strengthen the european respons to the situat viktor orban said the influx of refuge into hi countri is realli a german problem becaus that is the intend destin for most of them hungarian along with other european are full of fear he say becaus they see that the european leader among them the prime minist are not abl to control the situat if we would creat an imag just come becaus we are readi to accept everybodi that would be a moral failur becaus that is not the case orban said after a meet with european parliament presid martin schulz accord to the washington post the moral human thing is to make clear pleas don t come whi do you have to go from turkey to europ turkey is a safe countri stay there it s riski to come meanwhil voic of america report that british french and german offici have call for urgent action and plan to hold talk on sept in brussel to address the crisi voa report the three minist also call for better process of migrant in itali and greec as we ve report the unit nation believ that more than migrant have set out for europ from north africa and the middl east on the mediterranean sea so far thi year a percent increas on all of last year as npr s middl east editor larri kaplow write on ani given day now hundr of peopl perhap thousand are drift in ship or cling to boat that are littl more than inflat raft they go in other way too jump fenc in morocco to get to spanish territori cram into truck from turkey ride train across europ'\n",
            " 'trump tussl give unpopular mexican leader much need shot in arm mexico citi reuter donald trump s comb style ha buffet mexico s presid for month but deepli unpopular enriqu pena nieto may end up thank the new u s presid for prompt offend mexican to ralli behind their leader from billionair busi magnat carlo slim to polit oppon there ha been a groundswel of support for pena nieto who ha cut a lone figur in month of bruis encount with trump often refer to by hi initi epn pena nieto is labor under the worst approv rate of ani mexican presid in decad due to discont over corrupt gang violenc sluggish growth and a jump in fuel price trump s threat to scrap the nafta trade deal with mexico and build a border wall have caus anger and left mexican feel fear for the futur hi challeng to pena nieto on thursday say he should skip a plan summit between the two leader if mexico wasn t will to pay for the wall wa the final straw pena nieto repli a coupl of hour later that he had cancel hi meet with trump one of the presid s biggest ever hit on twitter get more like than when he person broke news of the captur of notori drug lord joaquin el chapo guzman in januari of last year bravo epn cheer former presid vicent fox who had initi condemn pena nieto for invit trump to mexico for talk last august and who ha wage a color and explet ridden campaign against the republican on twitter pena nieto and trump talk for about an hour by phone on friday pledg to work out their differ and agre not to speak about the wall in public for now meanwhil call for uniti grew in mexico led by slim a normal media shi year old who gave a minut news confer in support of the govern on friday thi is the most surpris exampl of nation uniti i ve seen in my life said slim who spent sever year in the past decad as the world s richest man we have to back the presid of mexico so he can defend our nation interest senior opposit leader also urg a common front it s time to show uniti and our commit to mexico alejandra barral head of the center left parti of the democrat revolut prd said on twitter pena nieto s credibl ha been batter by a widespread public percept that he ha fail to battl corrupt and inde even encourag it sinc a conflict of interest row embroil him hi wife and a top minist in late some opposit critic fear the govern will tri to use trump as a screen to distract from it fail howev two senior offici told reuter they hope pena nieto would seiz the moment to act quickli and decis to improv hi imag express of dismay at trump s behavior toward mexico have almost becom a nation pastim and talk of boycott against u s compani is gather steam on social media slim when ask about boycot at hi news confer said it wasn t a good idea to turn on u s compani which are creat job in mexico some foreign compani voic support for mexico too i feel mexico is be subject to terror at the moment said andrea schindler co owner of german fruit wholesal don limon s parent pilz schindler by phone from hamburg we re right behind mexico'\n",
            " 'goldman sach endors hillari clinton for presid goldman sach endors hillari clinton for presid for goldman sach wa there realli ani other choic thi cycl octob be sociabl share lloyd blankfein ceo of goldman sach is greet by hillari clinton at a panel discuss at the clinton global initi sept in new york publish in partnership with shadowproof he s with her on sunday former secretari of state hillari clinton earn the endors of goldman sach ceo lloyd blankfein an endors she had been work toward for year as wa reveal by wikileak hillari clinton spent the run up to her presidenti campaign give speech to goldman sach and other wall street bank where she prais their talent and explain her posit on financi regul on octob clinton told goldman sach that dodd frank had to be done mostli for polit reason becaus congress need to look like it wa do someth about the crisi she said there s noth magic about regul too much is bad too littl is bad how do you get to the golden key how do we figur out what work and the peopl that know the industri better than anybodi are the peopl who work in the industri ye she essenti endors wall street write the rule becaus wall street know it busi best and complain to goldman sach that regul had frighten banker i mean right now there are so mani place in our countri where the bank are not do what they need to do becaus they re scare of regul they re scare of the other shoe drop they re just plain scare so credit is not flow the way it need to to restart econom growth clinton said so peopl are you know a littl they re still uncertain and they re uncertain both becaus they don t know what might come next in term of regul but they re also uncertain becaus of chang in a global economi that we re onli begin to take hold of music to wall street s ear for goldman sach wa there realli ani other choic thi cycl after all they did pay hillari clinton for those three speech and have gener support her polit career despit her privat comment to goldman sach hillari clinton ha taken a tough public posit on wall street dure the campaign like due to senat berni sander success in the primari of cours wikileak also reveal that clinton told the nation multi hous council in a privat speech that you need both a public and a privat posit so the real question is what do blankfein and goldman want in return and what is clinton s privat posit on give it to them be sociabl share']\n"
          ]
        }
      ],
      "source": [
        "print(X)"
      ]
    },
    {
      "cell_type": "code",
      "execution_count": 22,
      "metadata": {
        "id": "sagjklLtSmqK"
      },
      "outputs": [],
      "source": [
        "vector = TfidfVectorizer()\n",
        "vector.fit(X)\n",
        "X = vector.transform(X)"
      ]
    },
    {
      "cell_type": "code",
      "execution_count": 23,
      "metadata": {
        "colab": {
          "base_uri": "https://localhost:8080/"
        },
        "id": "M6HrZfm9WDxf",
        "outputId": "56f1b34b-39f3-421a-adf2-0d96753da15b"
      },
      "outputs": [
        {
          "name": "stdout",
          "output_type": "stream",
          "text": [
            "<Compressed Sparse Row sparse matrix of dtype 'float64'\n",
            "\twith 17105460 stored elements and shape (72134, 162252)>\n",
            "  Coords\tValues\n",
            "  (0, 624)\t0.008104853079307873\n",
            "  (0, 940)\t0.01691096126800681\n",
            "  (0, 1284)\t0.015370009700767984\n",
            "  (0, 2133)\t0.04643439802613155\n",
            "  (0, 2221)\t0.014990305076025775\n",
            "  (0, 2223)\t0.010982077028512754\n",
            "  (0, 2765)\t0.06676176206621502\n",
            "  (0, 2786)\t0.01790827461989413\n",
            "  (0, 3617)\t0.026470740558609027\n",
            "  (0, 3956)\t0.008914371512914033\n",
            "  (0, 4002)\t0.024318548154627\n",
            "  (0, 4267)\t0.02112557644629626\n",
            "  (0, 4338)\t0.044751401601712586\n",
            "  (0, 4611)\t0.017662275118483905\n",
            "  (0, 4850)\t0.013400979479553066\n",
            "  (0, 4866)\t0.022008514346794607\n",
            "  (0, 5225)\t0.007145538020182149\n",
            "  (0, 5392)\t0.12121295758995135\n",
            "  (0, 6017)\t0.012920862858965154\n",
            "  (0, 6511)\t0.05072354187596246\n",
            "  (0, 6849)\t0.014066338460660776\n",
            "  (0, 7387)\t0.0808445855682592\n",
            "  (0, 8063)\t0.0331926851236094\n",
            "  (0, 8441)\t0.11204214049213164\n",
            "  (0, 8699)\t0.04171543846248927\n",
            "  :\t:\n",
            "  (72133, 141128)\t0.01732341252445897\n",
            "  (72133, 141174)\t0.02069596652229936\n",
            "  (72133, 142291)\t0.1132557355651114\n",
            "  (72133, 142515)\t0.033082644355831185\n",
            "  (72133, 142782)\t0.04368074079864903\n",
            "  (72133, 143109)\t0.03322948744890988\n",
            "  (72133, 143166)\t0.025394422070687737\n",
            "  (72133, 147146)\t0.13420894689181445\n",
            "  (72133, 148661)\t0.013622762969701325\n",
            "  (72133, 152993)\t0.040885949904110236\n",
            "  (72133, 153328)\t0.13584975348191536\n",
            "  (72133, 153500)\t0.01669310413856368\n",
            "  (72133, 153958)\t0.01733530186993488\n",
            "  (72133, 154132)\t0.02483630324802374\n",
            "  (72133, 155029)\t0.06786176746514361\n",
            "  (72133, 155110)\t0.035113419260156625\n",
            "  (72133, 155334)\t0.011244322465138313\n",
            "  (72133, 155616)\t0.07113206491972823\n",
            "  (72133, 156207)\t0.018881824309878396\n",
            "  (72133, 156877)\t0.049669302086639236\n",
            "  (72133, 157215)\t0.028296998503678505\n",
            "  (72133, 158962)\t0.030254023396356477\n",
            "  (72133, 158975)\t0.013443707119470696\n",
            "  (72133, 159648)\t0.019882975392205765\n",
            "  (72133, 159709)\t0.04324627375718611\n"
          ]
        }
      ],
      "source": [
        "print(X)"
      ]
    },
    {
      "cell_type": "code",
      "execution_count": 24,
      "metadata": {
        "id": "ZhjSkYjPXGgH"
      },
      "outputs": [],
      "source": [
        "X_train,X_test,y_train,y_test = train_test_split(X,y,test_size=.2,random_state=1)"
      ]
    },
    {
      "cell_type": "code",
      "execution_count": 25,
      "metadata": {
        "colab": {
          "base_uri": "https://localhost:8080/"
        },
        "id": "d9rL2yQdYE1x",
        "outputId": "11126b4d-0bc5-4f40-fe29-02f5c46e36bc"
      },
      "outputs": [
        {
          "data": {
            "text/plain": [
              "(57707, 162252)"
            ]
          },
          "execution_count": 25,
          "metadata": {},
          "output_type": "execute_result"
        }
      ],
      "source": [
        "X_train.shape"
      ]
    },
    {
      "cell_type": "code",
      "execution_count": 26,
      "metadata": {
        "colab": {
          "base_uri": "https://localhost:8080/"
        },
        "id": "I8EJ3bajYHot",
        "outputId": "36826c13-d101-44ba-d672-b6b7e9c80cf5"
      },
      "outputs": [
        {
          "data": {
            "text/plain": [
              "(14427, 162252)"
            ]
          },
          "execution_count": 26,
          "metadata": {},
          "output_type": "execute_result"
        }
      ],
      "source": [
        "X_test.shape"
      ]
    },
    {
      "cell_type": "code",
      "execution_count": 27,
      "metadata": {
        "colab": {
          "base_uri": "https://localhost:8080/",
          "height": 80
        },
        "id": "90L6Fa7QYMer",
        "outputId": "d2bdba8f-cb62-4b74-bd50-0a7c146cda32"
      },
      "outputs": [
        {
          "data": {
            "text/html": [
              "<style>#sk-container-id-1 {\n",
              "  /* Definition of color scheme common for light and dark mode */\n",
              "  --sklearn-color-text: #000;\n",
              "  --sklearn-color-text-muted: #666;\n",
              "  --sklearn-color-line: gray;\n",
              "  /* Definition of color scheme for unfitted estimators */\n",
              "  --sklearn-color-unfitted-level-0: #fff5e6;\n",
              "  --sklearn-color-unfitted-level-1: #f6e4d2;\n",
              "  --sklearn-color-unfitted-level-2: #ffe0b3;\n",
              "  --sklearn-color-unfitted-level-3: chocolate;\n",
              "  /* Definition of color scheme for fitted estimators */\n",
              "  --sklearn-color-fitted-level-0: #f0f8ff;\n",
              "  --sklearn-color-fitted-level-1: #d4ebff;\n",
              "  --sklearn-color-fitted-level-2: #b3dbfd;\n",
              "  --sklearn-color-fitted-level-3: cornflowerblue;\n",
              "\n",
              "  /* Specific color for light theme */\n",
              "  --sklearn-color-text-on-default-background: var(--sg-text-color, var(--theme-code-foreground, var(--jp-content-font-color1, black)));\n",
              "  --sklearn-color-background: var(--sg-background-color, var(--theme-background, var(--jp-layout-color0, white)));\n",
              "  --sklearn-color-border-box: var(--sg-text-color, var(--theme-code-foreground, var(--jp-content-font-color1, black)));\n",
              "  --sklearn-color-icon: #696969;\n",
              "\n",
              "  @media (prefers-color-scheme: dark) {\n",
              "    /* Redefinition of color scheme for dark theme */\n",
              "    --sklearn-color-text-on-default-background: var(--sg-text-color, var(--theme-code-foreground, var(--jp-content-font-color1, white)));\n",
              "    --sklearn-color-background: var(--sg-background-color, var(--theme-background, var(--jp-layout-color0, #111)));\n",
              "    --sklearn-color-border-box: var(--sg-text-color, var(--theme-code-foreground, var(--jp-content-font-color1, white)));\n",
              "    --sklearn-color-icon: #878787;\n",
              "  }\n",
              "}\n",
              "\n",
              "#sk-container-id-1 {\n",
              "  color: var(--sklearn-color-text);\n",
              "}\n",
              "\n",
              "#sk-container-id-1 pre {\n",
              "  padding: 0;\n",
              "}\n",
              "\n",
              "#sk-container-id-1 input.sk-hidden--visually {\n",
              "  border: 0;\n",
              "  clip: rect(1px 1px 1px 1px);\n",
              "  clip: rect(1px, 1px, 1px, 1px);\n",
              "  height: 1px;\n",
              "  margin: -1px;\n",
              "  overflow: hidden;\n",
              "  padding: 0;\n",
              "  position: absolute;\n",
              "  width: 1px;\n",
              "}\n",
              "\n",
              "#sk-container-id-1 div.sk-dashed-wrapped {\n",
              "  border: 1px dashed var(--sklearn-color-line);\n",
              "  margin: 0 0.4em 0.5em 0.4em;\n",
              "  box-sizing: border-box;\n",
              "  padding-bottom: 0.4em;\n",
              "  background-color: var(--sklearn-color-background);\n",
              "}\n",
              "\n",
              "#sk-container-id-1 div.sk-container {\n",
              "  /* jupyter's `normalize.less` sets `[hidden] { display: none; }`\n",
              "     but bootstrap.min.css set `[hidden] { display: none !important; }`\n",
              "     so we also need the `!important` here to be able to override the\n",
              "     default hidden behavior on the sphinx rendered scikit-learn.org.\n",
              "     See: https://github.com/scikit-learn/scikit-learn/issues/21755 */\n",
              "  display: inline-block !important;\n",
              "  position: relative;\n",
              "}\n",
              "\n",
              "#sk-container-id-1 div.sk-text-repr-fallback {\n",
              "  display: none;\n",
              "}\n",
              "\n",
              "div.sk-parallel-item,\n",
              "div.sk-serial,\n",
              "div.sk-item {\n",
              "  /* draw centered vertical line to link estimators */\n",
              "  background-image: linear-gradient(var(--sklearn-color-text-on-default-background), var(--sklearn-color-text-on-default-background));\n",
              "  background-size: 2px 100%;\n",
              "  background-repeat: no-repeat;\n",
              "  background-position: center center;\n",
              "}\n",
              "\n",
              "/* Parallel-specific style estimator block */\n",
              "\n",
              "#sk-container-id-1 div.sk-parallel-item::after {\n",
              "  content: \"\";\n",
              "  width: 100%;\n",
              "  border-bottom: 2px solid var(--sklearn-color-text-on-default-background);\n",
              "  flex-grow: 1;\n",
              "}\n",
              "\n",
              "#sk-container-id-1 div.sk-parallel {\n",
              "  display: flex;\n",
              "  align-items: stretch;\n",
              "  justify-content: center;\n",
              "  background-color: var(--sklearn-color-background);\n",
              "  position: relative;\n",
              "}\n",
              "\n",
              "#sk-container-id-1 div.sk-parallel-item {\n",
              "  display: flex;\n",
              "  flex-direction: column;\n",
              "}\n",
              "\n",
              "#sk-container-id-1 div.sk-parallel-item:first-child::after {\n",
              "  align-self: flex-end;\n",
              "  width: 50%;\n",
              "}\n",
              "\n",
              "#sk-container-id-1 div.sk-parallel-item:last-child::after {\n",
              "  align-self: flex-start;\n",
              "  width: 50%;\n",
              "}\n",
              "\n",
              "#sk-container-id-1 div.sk-parallel-item:only-child::after {\n",
              "  width: 0;\n",
              "}\n",
              "\n",
              "/* Serial-specific style estimator block */\n",
              "\n",
              "#sk-container-id-1 div.sk-serial {\n",
              "  display: flex;\n",
              "  flex-direction: column;\n",
              "  align-items: center;\n",
              "  background-color: var(--sklearn-color-background);\n",
              "  padding-right: 1em;\n",
              "  padding-left: 1em;\n",
              "}\n",
              "\n",
              "\n",
              "/* Toggleable style: style used for estimator/Pipeline/ColumnTransformer box that is\n",
              "clickable and can be expanded/collapsed.\n",
              "- Pipeline and ColumnTransformer use this feature and define the default style\n",
              "- Estimators will overwrite some part of the style using the `sk-estimator` class\n",
              "*/\n",
              "\n",
              "/* Pipeline and ColumnTransformer style (default) */\n",
              "\n",
              "#sk-container-id-1 div.sk-toggleable {\n",
              "  /* Default theme specific background. It is overwritten whether we have a\n",
              "  specific estimator or a Pipeline/ColumnTransformer */\n",
              "  background-color: var(--sklearn-color-background);\n",
              "}\n",
              "\n",
              "/* Toggleable label */\n",
              "#sk-container-id-1 label.sk-toggleable__label {\n",
              "  cursor: pointer;\n",
              "  display: flex;\n",
              "  width: 100%;\n",
              "  margin-bottom: 0;\n",
              "  padding: 0.5em;\n",
              "  box-sizing: border-box;\n",
              "  text-align: center;\n",
              "  align-items: start;\n",
              "  justify-content: space-between;\n",
              "  gap: 0.5em;\n",
              "}\n",
              "\n",
              "#sk-container-id-1 label.sk-toggleable__label .caption {\n",
              "  font-size: 0.6rem;\n",
              "  font-weight: lighter;\n",
              "  color: var(--sklearn-color-text-muted);\n",
              "}\n",
              "\n",
              "#sk-container-id-1 label.sk-toggleable__label-arrow:before {\n",
              "  /* Arrow on the left of the label */\n",
              "  content: \"▸\";\n",
              "  float: left;\n",
              "  margin-right: 0.25em;\n",
              "  color: var(--sklearn-color-icon);\n",
              "}\n",
              "\n",
              "#sk-container-id-1 label.sk-toggleable__label-arrow:hover:before {\n",
              "  color: var(--sklearn-color-text);\n",
              "}\n",
              "\n",
              "/* Toggleable content - dropdown */\n",
              "\n",
              "#sk-container-id-1 div.sk-toggleable__content {\n",
              "  max-height: 0;\n",
              "  max-width: 0;\n",
              "  overflow: hidden;\n",
              "  text-align: left;\n",
              "  /* unfitted */\n",
              "  background-color: var(--sklearn-color-unfitted-level-0);\n",
              "}\n",
              "\n",
              "#sk-container-id-1 div.sk-toggleable__content.fitted {\n",
              "  /* fitted */\n",
              "  background-color: var(--sklearn-color-fitted-level-0);\n",
              "}\n",
              "\n",
              "#sk-container-id-1 div.sk-toggleable__content pre {\n",
              "  margin: 0.2em;\n",
              "  border-radius: 0.25em;\n",
              "  color: var(--sklearn-color-text);\n",
              "  /* unfitted */\n",
              "  background-color: var(--sklearn-color-unfitted-level-0);\n",
              "}\n",
              "\n",
              "#sk-container-id-1 div.sk-toggleable__content.fitted pre {\n",
              "  /* unfitted */\n",
              "  background-color: var(--sklearn-color-fitted-level-0);\n",
              "}\n",
              "\n",
              "#sk-container-id-1 input.sk-toggleable__control:checked~div.sk-toggleable__content {\n",
              "  /* Expand drop-down */\n",
              "  max-height: 200px;\n",
              "  max-width: 100%;\n",
              "  overflow: auto;\n",
              "}\n",
              "\n",
              "#sk-container-id-1 input.sk-toggleable__control:checked~label.sk-toggleable__label-arrow:before {\n",
              "  content: \"▾\";\n",
              "}\n",
              "\n",
              "/* Pipeline/ColumnTransformer-specific style */\n",
              "\n",
              "#sk-container-id-1 div.sk-label input.sk-toggleable__control:checked~label.sk-toggleable__label {\n",
              "  color: var(--sklearn-color-text);\n",
              "  background-color: var(--sklearn-color-unfitted-level-2);\n",
              "}\n",
              "\n",
              "#sk-container-id-1 div.sk-label.fitted input.sk-toggleable__control:checked~label.sk-toggleable__label {\n",
              "  background-color: var(--sklearn-color-fitted-level-2);\n",
              "}\n",
              "\n",
              "/* Estimator-specific style */\n",
              "\n",
              "/* Colorize estimator box */\n",
              "#sk-container-id-1 div.sk-estimator input.sk-toggleable__control:checked~label.sk-toggleable__label {\n",
              "  /* unfitted */\n",
              "  background-color: var(--sklearn-color-unfitted-level-2);\n",
              "}\n",
              "\n",
              "#sk-container-id-1 div.sk-estimator.fitted input.sk-toggleable__control:checked~label.sk-toggleable__label {\n",
              "  /* fitted */\n",
              "  background-color: var(--sklearn-color-fitted-level-2);\n",
              "}\n",
              "\n",
              "#sk-container-id-1 div.sk-label label.sk-toggleable__label,\n",
              "#sk-container-id-1 div.sk-label label {\n",
              "  /* The background is the default theme color */\n",
              "  color: var(--sklearn-color-text-on-default-background);\n",
              "}\n",
              "\n",
              "/* On hover, darken the color of the background */\n",
              "#sk-container-id-1 div.sk-label:hover label.sk-toggleable__label {\n",
              "  color: var(--sklearn-color-text);\n",
              "  background-color: var(--sklearn-color-unfitted-level-2);\n",
              "}\n",
              "\n",
              "/* Label box, darken color on hover, fitted */\n",
              "#sk-container-id-1 div.sk-label.fitted:hover label.sk-toggleable__label.fitted {\n",
              "  color: var(--sklearn-color-text);\n",
              "  background-color: var(--sklearn-color-fitted-level-2);\n",
              "}\n",
              "\n",
              "/* Estimator label */\n",
              "\n",
              "#sk-container-id-1 div.sk-label label {\n",
              "  font-family: monospace;\n",
              "  font-weight: bold;\n",
              "  display: inline-block;\n",
              "  line-height: 1.2em;\n",
              "}\n",
              "\n",
              "#sk-container-id-1 div.sk-label-container {\n",
              "  text-align: center;\n",
              "}\n",
              "\n",
              "/* Estimator-specific */\n",
              "#sk-container-id-1 div.sk-estimator {\n",
              "  font-family: monospace;\n",
              "  border: 1px dotted var(--sklearn-color-border-box);\n",
              "  border-radius: 0.25em;\n",
              "  box-sizing: border-box;\n",
              "  margin-bottom: 0.5em;\n",
              "  /* unfitted */\n",
              "  background-color: var(--sklearn-color-unfitted-level-0);\n",
              "}\n",
              "\n",
              "#sk-container-id-1 div.sk-estimator.fitted {\n",
              "  /* fitted */\n",
              "  background-color: var(--sklearn-color-fitted-level-0);\n",
              "}\n",
              "\n",
              "/* on hover */\n",
              "#sk-container-id-1 div.sk-estimator:hover {\n",
              "  /* unfitted */\n",
              "  background-color: var(--sklearn-color-unfitted-level-2);\n",
              "}\n",
              "\n",
              "#sk-container-id-1 div.sk-estimator.fitted:hover {\n",
              "  /* fitted */\n",
              "  background-color: var(--sklearn-color-fitted-level-2);\n",
              "}\n",
              "\n",
              "/* Specification for estimator info (e.g. \"i\" and \"?\") */\n",
              "\n",
              "/* Common style for \"i\" and \"?\" */\n",
              "\n",
              ".sk-estimator-doc-link,\n",
              "a:link.sk-estimator-doc-link,\n",
              "a:visited.sk-estimator-doc-link {\n",
              "  float: right;\n",
              "  font-size: smaller;\n",
              "  line-height: 1em;\n",
              "  font-family: monospace;\n",
              "  background-color: var(--sklearn-color-background);\n",
              "  border-radius: 1em;\n",
              "  height: 1em;\n",
              "  width: 1em;\n",
              "  text-decoration: none !important;\n",
              "  margin-left: 0.5em;\n",
              "  text-align: center;\n",
              "  /* unfitted */\n",
              "  border: var(--sklearn-color-unfitted-level-1) 1pt solid;\n",
              "  color: var(--sklearn-color-unfitted-level-1);\n",
              "}\n",
              "\n",
              ".sk-estimator-doc-link.fitted,\n",
              "a:link.sk-estimator-doc-link.fitted,\n",
              "a:visited.sk-estimator-doc-link.fitted {\n",
              "  /* fitted */\n",
              "  border: var(--sklearn-color-fitted-level-1) 1pt solid;\n",
              "  color: var(--sklearn-color-fitted-level-1);\n",
              "}\n",
              "\n",
              "/* On hover */\n",
              "div.sk-estimator:hover .sk-estimator-doc-link:hover,\n",
              ".sk-estimator-doc-link:hover,\n",
              "div.sk-label-container:hover .sk-estimator-doc-link:hover,\n",
              ".sk-estimator-doc-link:hover {\n",
              "  /* unfitted */\n",
              "  background-color: var(--sklearn-color-unfitted-level-3);\n",
              "  color: var(--sklearn-color-background);\n",
              "  text-decoration: none;\n",
              "}\n",
              "\n",
              "div.sk-estimator.fitted:hover .sk-estimator-doc-link.fitted:hover,\n",
              ".sk-estimator-doc-link.fitted:hover,\n",
              "div.sk-label-container:hover .sk-estimator-doc-link.fitted:hover,\n",
              ".sk-estimator-doc-link.fitted:hover {\n",
              "  /* fitted */\n",
              "  background-color: var(--sklearn-color-fitted-level-3);\n",
              "  color: var(--sklearn-color-background);\n",
              "  text-decoration: none;\n",
              "}\n",
              "\n",
              "/* Span, style for the box shown on hovering the info icon */\n",
              ".sk-estimator-doc-link span {\n",
              "  display: none;\n",
              "  z-index: 9999;\n",
              "  position: relative;\n",
              "  font-weight: normal;\n",
              "  right: .2ex;\n",
              "  padding: .5ex;\n",
              "  margin: .5ex;\n",
              "  width: min-content;\n",
              "  min-width: 20ex;\n",
              "  max-width: 50ex;\n",
              "  color: var(--sklearn-color-text);\n",
              "  box-shadow: 2pt 2pt 4pt #999;\n",
              "  /* unfitted */\n",
              "  background: var(--sklearn-color-unfitted-level-0);\n",
              "  border: .5pt solid var(--sklearn-color-unfitted-level-3);\n",
              "}\n",
              "\n",
              ".sk-estimator-doc-link.fitted span {\n",
              "  /* fitted */\n",
              "  background: var(--sklearn-color-fitted-level-0);\n",
              "  border: var(--sklearn-color-fitted-level-3);\n",
              "}\n",
              "\n",
              ".sk-estimator-doc-link:hover span {\n",
              "  display: block;\n",
              "}\n",
              "\n",
              "/* \"?\"-specific style due to the `<a>` HTML tag */\n",
              "\n",
              "#sk-container-id-1 a.estimator_doc_link {\n",
              "  float: right;\n",
              "  font-size: 1rem;\n",
              "  line-height: 1em;\n",
              "  font-family: monospace;\n",
              "  background-color: var(--sklearn-color-background);\n",
              "  border-radius: 1rem;\n",
              "  height: 1rem;\n",
              "  width: 1rem;\n",
              "  text-decoration: none;\n",
              "  /* unfitted */\n",
              "  color: var(--sklearn-color-unfitted-level-1);\n",
              "  border: var(--sklearn-color-unfitted-level-1) 1pt solid;\n",
              "}\n",
              "\n",
              "#sk-container-id-1 a.estimator_doc_link.fitted {\n",
              "  /* fitted */\n",
              "  border: var(--sklearn-color-fitted-level-1) 1pt solid;\n",
              "  color: var(--sklearn-color-fitted-level-1);\n",
              "}\n",
              "\n",
              "/* On hover */\n",
              "#sk-container-id-1 a.estimator_doc_link:hover {\n",
              "  /* unfitted */\n",
              "  background-color: var(--sklearn-color-unfitted-level-3);\n",
              "  color: var(--sklearn-color-background);\n",
              "  text-decoration: none;\n",
              "}\n",
              "\n",
              "#sk-container-id-1 a.estimator_doc_link.fitted:hover {\n",
              "  /* fitted */\n",
              "  background-color: var(--sklearn-color-fitted-level-3);\n",
              "}\n",
              "</style><div id=\"sk-container-id-1\" class=\"sk-top-container\"><div class=\"sk-text-repr-fallback\"><pre>LogisticRegression()</pre><b>In a Jupyter environment, please rerun this cell to show the HTML representation or trust the notebook. <br />On GitHub, the HTML representation is unable to render, please try loading this page with nbviewer.org.</b></div><div class=\"sk-container\" hidden><div class=\"sk-item\"><div class=\"sk-estimator fitted sk-toggleable\"><input class=\"sk-toggleable__control sk-hidden--visually\" id=\"sk-estimator-id-1\" type=\"checkbox\" checked><label for=\"sk-estimator-id-1\" class=\"sk-toggleable__label fitted sk-toggleable__label-arrow\"><div><div>LogisticRegression</div></div><div><a class=\"sk-estimator-doc-link fitted\" rel=\"noreferrer\" target=\"_blank\" href=\"https://scikit-learn.org/1.6/modules/generated/sklearn.linear_model.LogisticRegression.html\">?<span>Documentation for LogisticRegression</span></a><span class=\"sk-estimator-doc-link fitted\">i<span>Fitted</span></span></div></label><div class=\"sk-toggleable__content fitted\"><pre>LogisticRegression()</pre></div> </div></div></div></div>"
            ],
            "text/plain": [
              "LogisticRegression()"
            ]
          },
          "execution_count": 27,
          "metadata": {},
          "output_type": "execute_result"
        }
      ],
      "source": [
        "model = LogisticRegression()\n",
        "model.fit(X_train,y_train)"
      ]
    },
    {
      "cell_type": "code",
      "execution_count": 28,
      "metadata": {
        "colab": {
          "base_uri": "https://localhost:8080/"
        },
        "id": "47sdWIu5YbYe",
        "outputId": "4b4d5d65-ae3c-4d6d-faec-a9c0bd3b7689"
      },
      "outputs": [
        {
          "name": "stdout",
          "output_type": "stream",
          "text": [
            "Train Accuracy :-\n"
          ]
        },
        {
          "data": {
            "text/plain": [
              "(None, 95.92597085275617)"
            ]
          },
          "execution_count": 28,
          "metadata": {},
          "output_type": "execute_result"
        }
      ],
      "source": [
        "lr_pred_train = model.predict(X_train)\n",
        "print('Train Accuracy :-'),accuracy_score(lr_pred_train,y_train)*100"
      ]
    },
    {
      "cell_type": "code",
      "execution_count": 29,
      "metadata": {
        "colab": {
          "base_uri": "https://localhost:8080/"
        },
        "id": "RNluLhJ_ZFPa",
        "outputId": "2692feaa-b469-4daa-9031-f98d4b2f4542"
      },
      "outputs": [
        {
          "name": "stdout",
          "output_type": "stream",
          "text": [
            "Test Accuracy :-\n"
          ]
        },
        {
          "data": {
            "text/plain": [
              "(None, 94.67664795175712)"
            ]
          },
          "execution_count": 29,
          "metadata": {},
          "output_type": "execute_result"
        }
      ],
      "source": [
        "lr_pred_test = model.predict(X_test)\n",
        "print('Test Accuracy :-'),accuracy_score(lr_pred_test,y_test)*100"
      ]
    },
    {
      "cell_type": "code",
      "execution_count": 34,
      "metadata": {
        "colab": {
          "base_uri": "https://localhost:8080/"
        },
        "id": "2JfauE_aZmqG",
        "outputId": "93354903-b44b-4d04-f857-be348b8821b9"
      },
      "outputs": [
        {
          "name": "stdout",
          "output_type": "stream",
          "text": [
            "The News Is Real\n"
          ]
        }
      ],
      "source": [
        "# Prediction System\n",
        "\n",
        "input_data = X_test[1234]\n",
        "prediction = model.predict(input_data)\n",
        "if prediction[0] == 1:\n",
        "  print('The News Is Fake')\n",
        "else:\n",
        "  print('The News Is Real')"
      ]
    }
  ],
  "metadata": {
    "colab": {
      "provenance": []
    },
    "kernelspec": {
      "display_name": "Python 3",
      "name": "python3"
    },
    "language_info": {
      "codemirror_mode": {
        "name": "ipython",
        "version": 3
      },
      "file_extension": ".py",
      "mimetype": "text/x-python",
      "name": "python",
      "nbconvert_exporter": "python",
      "pygments_lexer": "ipython3",
      "version": "3.13.3"
    }
  },
  "nbformat": 4,
  "nbformat_minor": 0
}
